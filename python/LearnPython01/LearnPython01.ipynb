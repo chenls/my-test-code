{
 "cells": [
  {
   "cell_type": "code",
   "execution_count": null,
   "metadata": {},
   "outputs": [],
   "source": [
    "# coding=utf-8\n",
    "import os\n",
    "\n",
    "def printTree(file_path, depth=0):\n",
    "    if not os.path.isdir(file_path):\n",
    "        print(file_path+\" is not a directory!\")\n",
    "        return\n",
    "    files=os.listdir(file_path)\n",
    "    for f in files:\n",
    "        if not f.startswith('.'):\n",
    "            sub_file_path=os.path.join(file_path,f)\n",
    "            is_dir=os.path.isdir(sub_file_path)\n",
    "            if is_dir or f.endswith('java'):\n",
    "                print(\"| \" * depth + \"+--\" + f)\n",
    "            if is_dir:\n",
    "                printTree(sub_file_path, depth+1)\n",
    "                print(\"| \" * depth)\n",
    "\n",
    "\n",
    "# printTree('/Users/megvii/GitParent/FingerprintUnlockAp/app/src/main/java', 0)\n",
    "printTree('130A.csv')\n",
    "\n",
    "def quick_sort(array):\n",
    "    return array if len(array) < 1 else quick_sort([item for item in array[1:] if item<=array[0]]) + [array[0]] + quick_sort([item for item in array[1:] if item > array[0]]) \n",
    "\n",
    "def quick_sort(array, direct, depth):\n",
    "    if len(array) > 0:\n",
    "        print(\"  \"*depth+direct)\n",
    "        print(\"  \"*depth ,end='')\n",
    "        print(array)\n",
    "        print(\" \")\n",
    "    return array if len(array) < 1 else quick_sort([item for item in array[1:] if item<=array[0]],'left', depth+1) + [array[0]] + quick_sort([item for item in array[1:] if item > array[0]],'right',depth+1) \n",
    "\n",
    "\n",
    "quick_sort([2,5,9,3,7,1,5], 'start', 0)\n",
    "#返回[1, 2, 3, 5, 5, 7, 9]\n",
    "\n",
    "# a=[1, 2, 3, 5, 5, 7, 9]\n",
    "# for x in range(len(a)):\n",
    "#     print(a[x])\n",
    "\n",
    "\n"
   ]
  },
  {
   "cell_type": "code",
   "execution_count": null,
   "metadata": {},
   "outputs": [],
   "source": []
  },
  {
   "cell_type": "code",
   "execution_count": null,
   "metadata": {},
   "outputs": [],
   "source": []
  },
  {
   "cell_type": "code",
   "execution_count": null,
   "metadata": {},
   "outputs": [],
   "source": []
  },
  {
   "cell_type": "code",
   "execution_count": null,
   "metadata": {},
   "outputs": [],
   "source": []
  },
  {
   "cell_type": "code",
   "execution_count": null,
   "metadata": {},
   "outputs": [],
   "source": []
  },
  {
   "cell_type": "code",
   "execution_count": null,
   "metadata": {},
   "outputs": [],
   "source": []
  },
  {
   "cell_type": "code",
   "execution_count": null,
   "metadata": {},
   "outputs": [],
   "source": []
  }
 ],
 "metadata": {
  "kernelspec": {
   "name": "python3",
   "display_name": "Python 3.8.5 64-bit ('base': conda)",
   "metadata": {
    "interpreter": {
     "hash": "6032a9671948e7956b55f3c6f8869ece73890c7e220270a49be9104ef379a682"
    }
   }
  },
  "language_info": {
   "codemirror_mode": {
    "name": "ipython",
    "version": 3
   },
   "file_extension": ".py",
   "mimetype": "text/x-python",
   "name": "python",
   "nbconvert_exporter": "python",
   "pygments_lexer": "ipython3",
   "version": "3.8.5-final"
  }
 },
 "nbformat": 4,
 "nbformat_minor": 4
}